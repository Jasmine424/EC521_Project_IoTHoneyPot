{
 "cells": [
  {
   "cell_type": "code",
   "execution_count": 9,
   "metadata": {
    "collapsed": true
   },
   "outputs": [],
   "source": [
    "import numpy as np\n",
    "import scipy as sp\n",
    "import json\n",
    "import pandas as pd\n",
    "import collections\n",
    "import sklearn.metrics as metrics\n",
    "import sklearn.datasets as sk_data\n",
    "import matplotlib.pyplot as plt\n",
    "import seaborn as sns\n",
    "import pandas as pd \n",
    "from datetime import timedelta , datetime \n",
    "import matplotlib.pylpot as plt \n",
    "import numpy as np "
   ]
  },
  {
   "cell_type": "code",
   "execution_count": 27,
   "metadata": {},
   "outputs": [
    {
     "data": {
      "text/html": [
       "<div>\n",
       "<style>\n",
       "    .dataframe thead tr:only-child th {\n",
       "        text-align: right;\n",
       "    }\n",
       "\n",
       "    .dataframe thead th {\n",
       "        text-align: left;\n",
       "    }\n",
       "\n",
       "    .dataframe tbody tr th {\n",
       "        vertical-align: top;\n",
       "    }\n",
       "</style>\n",
       "<table border=\"1\" class=\"dataframe\">\n",
       "  <thead>\n",
       "    <tr style=\"text-align: right;\">\n",
       "      <th></th>\n",
       "      <th>compCS</th>\n",
       "      <th>dst_ip</th>\n",
       "      <th>dst_port</th>\n",
       "      <th>duration</th>\n",
       "      <th>encCS</th>\n",
       "      <th>eventid</th>\n",
       "      <th>input</th>\n",
       "      <th>isError</th>\n",
       "      <th>kexAlgs</th>\n",
       "      <th>keyAlgs</th>\n",
       "      <th>...</th>\n",
       "      <th>sensor</th>\n",
       "      <th>session</th>\n",
       "      <th>size</th>\n",
       "      <th>src_ip</th>\n",
       "      <th>src_port</th>\n",
       "      <th>system</th>\n",
       "      <th>timestamp</th>\n",
       "      <th>ttylog</th>\n",
       "      <th>username</th>\n",
       "      <th>version</th>\n",
       "    </tr>\n",
       "  </thead>\n",
       "  <tbody>\n",
       "    <tr>\n",
       "      <th>0</th>\n",
       "      <td>NaN</td>\n",
       "      <td>NaN</td>\n",
       "      <td>NaN</td>\n",
       "      <td>NaN</td>\n",
       "      <td>NaN</td>\n",
       "      <td>cowrie.command.input</td>\n",
       "      <td>enable</td>\n",
       "      <td>0</td>\n",
       "      <td>NaN</td>\n",
       "      <td>NaN</td>\n",
       "      <td>...</td>\n",
       "      <td>cowrie-1</td>\n",
       "      <td>be66e21da0c5</td>\n",
       "      <td>NaN</td>\n",
       "      <td>114.142.45.14</td>\n",
       "      <td>NaN</td>\n",
       "      <td>CowrieTelnetTransport,24400,114.142.45.14</td>\n",
       "      <td>2018-03-26 00:18:19.925319</td>\n",
       "      <td>NaN</td>\n",
       "      <td>NaN</td>\n",
       "      <td>NaN</td>\n",
       "    </tr>\n",
       "    <tr>\n",
       "      <th>1</th>\n",
       "      <td>NaN</td>\n",
       "      <td>NaN</td>\n",
       "      <td>NaN</td>\n",
       "      <td>NaN</td>\n",
       "      <td>NaN</td>\n",
       "      <td>cowrie.command.input</td>\n",
       "      <td>system</td>\n",
       "      <td>0</td>\n",
       "      <td>NaN</td>\n",
       "      <td>NaN</td>\n",
       "      <td>...</td>\n",
       "      <td>cowrie-1</td>\n",
       "      <td>be66e21da0c5</td>\n",
       "      <td>NaN</td>\n",
       "      <td>114.142.45.14</td>\n",
       "      <td>NaN</td>\n",
       "      <td>CowrieTelnetTransport,24400,114.142.45.14</td>\n",
       "      <td>2018-03-26 00:18:20.472140</td>\n",
       "      <td>NaN</td>\n",
       "      <td>NaN</td>\n",
       "      <td>NaN</td>\n",
       "    </tr>\n",
       "    <tr>\n",
       "      <th>2</th>\n",
       "      <td>NaN</td>\n",
       "      <td>NaN</td>\n",
       "      <td>NaN</td>\n",
       "      <td>NaN</td>\n",
       "      <td>NaN</td>\n",
       "      <td>cowrie.command.failed</td>\n",
       "      <td>system</td>\n",
       "      <td>0</td>\n",
       "      <td>NaN</td>\n",
       "      <td>NaN</td>\n",
       "      <td>...</td>\n",
       "      <td>cowrie-1</td>\n",
       "      <td>be66e21da0c5</td>\n",
       "      <td>NaN</td>\n",
       "      <td>114.142.45.14</td>\n",
       "      <td>NaN</td>\n",
       "      <td>CowrieTelnetTransport,24400,114.142.45.14</td>\n",
       "      <td>2018-03-26 00:18:20.474532</td>\n",
       "      <td>NaN</td>\n",
       "      <td>NaN</td>\n",
       "      <td>NaN</td>\n",
       "    </tr>\n",
       "    <tr>\n",
       "      <th>3</th>\n",
       "      <td>NaN</td>\n",
       "      <td>NaN</td>\n",
       "      <td>NaN</td>\n",
       "      <td>NaN</td>\n",
       "      <td>NaN</td>\n",
       "      <td>cowrie.command.input</td>\n",
       "      <td>shell</td>\n",
       "      <td>0</td>\n",
       "      <td>NaN</td>\n",
       "      <td>NaN</td>\n",
       "      <td>...</td>\n",
       "      <td>cowrie-1</td>\n",
       "      <td>be66e21da0c5</td>\n",
       "      <td>NaN</td>\n",
       "      <td>114.142.45.14</td>\n",
       "      <td>NaN</td>\n",
       "      <td>CowrieTelnetTransport,24400,114.142.45.14</td>\n",
       "      <td>2018-03-26 00:18:20.476113</td>\n",
       "      <td>NaN</td>\n",
       "      <td>NaN</td>\n",
       "      <td>NaN</td>\n",
       "    </tr>\n",
       "    <tr>\n",
       "      <th>4</th>\n",
       "      <td>NaN</td>\n",
       "      <td>NaN</td>\n",
       "      <td>NaN</td>\n",
       "      <td>NaN</td>\n",
       "      <td>NaN</td>\n",
       "      <td>cowrie.command.failed</td>\n",
       "      <td>shell</td>\n",
       "      <td>0</td>\n",
       "      <td>NaN</td>\n",
       "      <td>NaN</td>\n",
       "      <td>...</td>\n",
       "      <td>cowrie-1</td>\n",
       "      <td>be66e21da0c5</td>\n",
       "      <td>NaN</td>\n",
       "      <td>114.142.45.14</td>\n",
       "      <td>NaN</td>\n",
       "      <td>CowrieTelnetTransport,24400,114.142.45.14</td>\n",
       "      <td>2018-03-26 00:18:20.477556</td>\n",
       "      <td>NaN</td>\n",
       "      <td>NaN</td>\n",
       "      <td>NaN</td>\n",
       "    </tr>\n",
       "  </tbody>\n",
       "</table>\n",
       "<p>5 rows × 24 columns</p>\n",
       "</div>"
      ],
      "text/plain": [
       "  compCS dst_ip  dst_port  duration encCS                eventid   input  \\\n",
       "0    NaN    NaN       NaN       NaN   NaN   cowrie.command.input  enable   \n",
       "1    NaN    NaN       NaN       NaN   NaN   cowrie.command.input  system   \n",
       "2    NaN    NaN       NaN       NaN   NaN  cowrie.command.failed  system   \n",
       "3    NaN    NaN       NaN       NaN   NaN   cowrie.command.input   shell   \n",
       "4    NaN    NaN       NaN       NaN   NaN  cowrie.command.failed   shell   \n",
       "\n",
       "   isError kexAlgs keyAlgs   ...      sensor       session size  \\\n",
       "0        0     NaN     NaN   ...    cowrie-1  be66e21da0c5  NaN   \n",
       "1        0     NaN     NaN   ...    cowrie-1  be66e21da0c5  NaN   \n",
       "2        0     NaN     NaN   ...    cowrie-1  be66e21da0c5  NaN   \n",
       "3        0     NaN     NaN   ...    cowrie-1  be66e21da0c5  NaN   \n",
       "4        0     NaN     NaN   ...    cowrie-1  be66e21da0c5  NaN   \n",
       "\n",
       "          src_ip src_port                                     system  \\\n",
       "0  114.142.45.14      NaN  CowrieTelnetTransport,24400,114.142.45.14   \n",
       "1  114.142.45.14      NaN  CowrieTelnetTransport,24400,114.142.45.14   \n",
       "2  114.142.45.14      NaN  CowrieTelnetTransport,24400,114.142.45.14   \n",
       "3  114.142.45.14      NaN  CowrieTelnetTransport,24400,114.142.45.14   \n",
       "4  114.142.45.14      NaN  CowrieTelnetTransport,24400,114.142.45.14   \n",
       "\n",
       "                   timestamp ttylog  username version  \n",
       "0 2018-03-26 00:18:19.925319    NaN       NaN     NaN  \n",
       "1 2018-03-26 00:18:20.472140    NaN       NaN     NaN  \n",
       "2 2018-03-26 00:18:20.474532    NaN       NaN     NaN  \n",
       "3 2018-03-26 00:18:20.476113    NaN       NaN     NaN  \n",
       "4 2018-03-26 00:18:20.477556    NaN       NaN     NaN  \n",
       "\n",
       "[5 rows x 24 columns]"
      ]
     },
     "execution_count": 27,
     "metadata": {},
     "output_type": "execute_result"
    }
   ],
   "source": [
    "df = pd.read_json('test.json', lines=True) \n",
    "# view the first 5 lines of data\n",
    "df.head()  # you can also input parameter"
   ]
  },
  {
   "cell_type": "markdown",
   "metadata": {},
   "source": [
    "To find the IP address of the hacker and theirs counts"
   ]
  },
  {
   "cell_type": "code",
   "execution_count": 31,
   "metadata": {},
   "outputs": [
    {
     "data": {
      "text/plain": [
       "159.65.199.35      572\n",
       "80.211.168.74       46\n",
       "188.166.216.206     44\n",
       "101.96.121.172      19\n",
       "47.36.0.221         19\n",
       "138.121.27.97       19\n",
       "191.193.112.220     19\n",
       "185.222.209.108     16\n",
       "114.142.45.14        9\n",
       "107.170.200.69       2\n",
       "Name: src_ip, dtype: int64"
      ]
     },
     "execution_count": 31,
     "metadata": {},
     "output_type": "execute_result"
    }
   ],
   "source": [
    "most_common = df['src_ip'].value_counts()[:10]\n",
    "most_common"
   ]
  },
  {
   "cell_type": "code",
   "execution_count": 32,
   "metadata": {},
   "outputs": [
    {
     "data": {
      "text/plain": [
       "{'101.96.121.172': 19,\n",
       " '107.170.200.69': 2,\n",
       " '114.142.45.14': 9,\n",
       " '138.121.27.97': 19,\n",
       " '159.65.199.35': 572,\n",
       " '185.222.209.108': 16,\n",
       " '188.166.216.206': 44,\n",
       " '191.193.112.220': 19,\n",
       " '47.36.0.221': 19,\n",
       " '80.211.168.74': 46}"
      ]
     },
     "execution_count": 32,
     "metadata": {},
     "output_type": "execute_result"
    }
   ],
   "source": [
    "most_common.to_dict() #convert to dictionary"
   ]
  },
  {
   "cell_type": "code",
   "execution_count": 67,
   "metadata": {
    "collapsed": true
   },
   "outputs": [],
   "source": [
    "x = df['src_ip'].unique()  "
   ]
  },
  {
   "cell_type": "code",
   "execution_count": 68,
   "metadata": {},
   "outputs": [
    {
     "data": {
      "text/plain": [
       "array(['114.142.45.14', '80.211.168.74', '185.222.209.108', '47.36.0.221',\n",
       "       '191.193.112.220', '138.121.27.97', '107.170.238.118',\n",
       "       '101.96.121.172', '107.170.200.69', '159.65.199.35',\n",
       "       '188.166.216.206'], dtype=object)"
      ]
     },
     "execution_count": 68,
     "metadata": {},
     "output_type": "execute_result"
    }
   ],
   "source": [
    "x"
   ]
  },
  {
   "cell_type": "markdown",
   "metadata": {},
   "source": [
    "To find where are the IP locations"
   ]
  },
  {
   "cell_type": "code",
   "execution_count": 62,
   "metadata": {},
   "outputs": [
    {
     "name": "stdout",
     "output_type": "stream",
     "text": [
      "VN\n",
      "\n"
     ]
    }
   ],
   "source": [
    "import requests\n",
    "\n",
    "print (requests.get('http://ipinfo.io/101.96.121.172/country').text)"
   ]
  },
  {
   "cell_type": "code",
   "execution_count": 79,
   "metadata": {},
   "outputs": [
    {
     "name": "stdout",
     "output_type": "stream",
     "text": [
      "{'ip': '114.142.45.14', 'city': 'Kitakyushu', 'region': 'Fukuoka', 'country': 'JP', 'loc': '33.8333,130.8330', 'postal': '805-0037'}\n",
      "{'ip': '80.211.168.74', 'city': 'Chiani', 'region': 'Toscana', 'country': 'IT', 'loc': '43.4667,11.8167'}\n",
      "{'ip': '185.222.209.108', 'city': '', 'region': '', 'country': 'GB', 'loc': '51.4964,-0.1224'}\n",
      "{'ip': '47.36.0.221', 'city': 'Covington', 'region': 'Georgia', 'country': 'US', 'loc': '33.5120,-83.9496', 'postal': '30016'}\n",
      "{'ip': '191.193.112.220', 'city': 'São Paulo', 'region': 'Sao Paulo', 'country': 'BR', 'loc': '-23.5733,-46.6417'}\n",
      "{'ip': '138.121.27.97', 'city': 'Rolim De Moura', 'region': 'Rondonia', 'country': 'BR', 'loc': '-13.0833,-62.2667', 'postal': '76940'}\n",
      "{'ip': '107.170.238.118', 'city': 'San Francisco', 'region': 'California', 'country': 'US', 'loc': '37.7312,-122.3830', 'postal': '94124'}\n",
      "{'ip': '101.96.121.172', 'city': 'Hanoi', 'region': 'Thanh Pho Ha Noi', 'country': 'VN', 'loc': '21.0333,105.8500'}\n",
      "{'ip': '107.170.200.69', 'city': 'San Francisco', 'region': 'California', 'country': 'US', 'loc': '37.7312,-122.3830', 'postal': '94124'}\n",
      "{'ip': '159.65.199.35', 'city': 'Amsterdam', 'region': 'North Holland', 'country': 'NL', 'loc': '52.3529,4.9415', 'postal': '1098'}\n",
      "{'ip': '188.166.216.206', 'city': 'Singapore', 'region': 'Central Singapore Community Development Council', 'country': 'SG', 'loc': '1.2931,103.8560'}\n"
     ]
    }
   ],
   "source": [
    "import requests\n",
    "for i in x:\n",
    "    m = 'http://ipinfo.io/' + i + '/geo'\n",
    "    print (requests.get(m).json())"
   ]
  },
  {
   "cell_type": "markdown",
   "metadata": {},
   "source": [
    "To find the inputs comes from certain IP address"
   ]
  },
  {
   "cell_type": "code",
   "execution_count": 34,
   "metadata": {},
   "outputs": [
    {
     "name": "stdout",
     "output_type": "stream",
     "text": [
      "159.65.199.35 [nan 'enable' 'shell' 'sh' '/bin/busybox daddyl33t'\n",
      " '/bin/busybox ps; /bin/busybox daddyl33t'\n",
      " '/bin/busybox cat /proc/mounts; /bin/busybox daddyl33t'\n",
      " \"/bin/busybox echo -e '\\\\x6b\\\\x61\\\\x6d\\\\x69' > /.nippon; /bin/busybox cat /.nippon; /bin/busybox rm /.nippon\"\n",
      " \"/bin/busybox echo -e '\\\\x6b\\\\x61\\\\x6d\\\\x69/sys' > /sys/.nippon; /bin/busybox cat /sys/.nippon; /bin/busybox rm /sys/.nippon\"\n",
      " \"/bin/busybox echo -e '\\\\x6b\\\\x61\\\\x6d\\\\x69/proc' > /proc/.nippon; /bin/busybox cat /proc/.nippon; /bin/busybox rm /proc/.nippon\"\n",
      " \"/bin/busybox echo -e '\\\\x6b\\\\x61\\\\x6d\\\\x69/dev' > /dev/.nippon; /bin/busybox cat /dev/.nippon; /bin/busybox rm /dev/.nippon\"\n",
      " \"/bin/busybox echo -e '\\\\x6b\\\\x61\\\\x6d\\\\x69/dev/pts' > /dev/pts/.nippon; /bin/busybox cat /dev/pts/.nippon; /bin/busybox rm /dev/pts/.nippon\"\n",
      " \"/bin/busybox echo -e '\\\\x6b\\\\x61\\\\x6d\\\\x69/run' > /run/.nippon; /bin/busybox cat /run/.nippon; /bin/busybox rm /run/.nippon\"\n",
      " \"/bin/busybox echo -e '\\\\x6b\\\\x61\\\\x6d\\\\x69/dev/shm' > /dev/shm/.nippon; /bin/busybox cat /dev/shm/.nippon; /bin/busybox rm /dev/shm/.nippon\"\n",
      " \"/bin/busybox echo -e '\\\\x6b\\\\x61\\\\x6d\\\\x69/run/lock' > /run/lock/.nippon; /bin/busybox cat /run/lock/.nippon; /bin/busybox rm /run/lock/.nippon\"\n",
      " \"/bin/busybox echo -e '\\\\x6b\\\\x61\\\\x6d\\\\x69/proc/sys/fs/binfmt_misc' > /proc/sys/fs/binfmt_misc/.nippon; /bin/busybox cat /proc/sys/fs/binfmt_misc/.nippon; /bin/busybox rm /proc/sys/fs/binfmt_misc/.nippon\"\n",
      " \"/bin/busybox echo -e '\\\\x6b\\\\x61\\\\x6d\\\\x69/sys/fs/fuse/connections' > /sys/fs/fuse/connections/.nippon; /bin/busybox cat /sys/fs/fuse/connections/.nippon; /bin/busybox rm /sys/fs/fuse/connections/.nippon\"\n",
      " \"/bin/busybox echo -e '\\\\x6b\\\\x61\\\\x6d\\\\x69/boot' > /boot/.nippon; /bin/busybox cat /boot/.nippon; /bin/busybox rm /boot/.nippon\"\n",
      " \"/bin/busybox echo -e '\\\\x6b\\\\x61\\\\x6d\\\\x69/home' > /home/.nippon; /bin/busybox cat /home/.nippon; /bin/busybox rm /home/.nippon\"\n",
      " 'rm /.t; rm /.sh; rm /.human' 'rm /sys/.t; rm /sys/.sh; rm /sys/.human'\n",
      " 'rm /proc/.t; rm /proc/.sh; rm /proc/.human'\n",
      " 'rm /dev/.t; rm /dev/.sh; rm /dev/.human'\n",
      " 'rm /dev/pts/.t; rm /dev/pts/.sh; rm /dev/pts/.human'\n",
      " 'rm /run/.t; rm /run/.sh; rm /run/.human'\n",
      " 'rm /dev/shm/.t; rm /dev/shm/.sh; rm /dev/shm/.human'\n",
      " 'rm /run/lock/.t; rm /run/lock/.sh; rm /run/lock/.human'\n",
      " 'rm /proc/sys/fs/binfmt_misc/.t; rm /proc/sys/fs/binfmt_misc/.sh; rm /proc/sys/fs/binfmt_misc/.human'\n",
      " 'rm /boot/.t; rm /boot/.sh; rm /boot/.human'\n",
      " 'rm /home/.t; rm /home/.sh; rm /home/.human' 'cd /'\n",
      " '/bin/busybox cp /bin/echo OaF3; >OaF3; /bin/busybox chmod 777 OaF3; /bin/busybox daddyl33t'\n",
      " '/bin/busybox cat /bin/echo']\n",
      "80.211.168.74 [nan 'enable' 'shell' 'sh' '/bin/busybox LOLKEK'\n",
      " '/bin/busybox ps; /bin/busybox LOLKEK'\n",
      " '/bin/busybox cat /proc/mounts; /bin/busybox LOLKEK'\n",
      " \"/bin/busybox echo -e '\\\\x66\\\\x75\\\\x63\\\\x6b' > /.nippon; /bin/busybox cat /.nippon; /bin/busybox rm /.nippon\"\n",
      " \"/bin/busybox echo -e '\\\\x66\\\\x75\\\\x63\\\\x6b/sys' > /sys/.nippon; /bin/busybox cat /sys/.nippon; /bin/busybox rm /sys/.nippon\"\n",
      " \"/bin/busybox echo -e '\\\\x66\\\\x75\\\\x63\\\\x6b/proc' > /proc/.nippon; /bin/busybox cat /proc/.nippon; /bin/busybox rm /proc/.nippon\"\n",
      " \"/bin/busybox echo -e '\\\\x66\\\\x75\\\\x63\\\\x6b/dev' > /dev/.nippon; /bin/busybox cat /dev/.nippon; /bin/busybox rm /dev/.nippon\"\n",
      " \"/bin/busybox echo -e '\\\\x66\\\\x75\\\\x63\\\\x6b/dev/pts' > /dev/pts/.nippon; /bin/busybox cat /dev/pts/.nippon; /bin/busybox rm /dev/pts/.nippon\"\n",
      " \"/bin/busybox echo -e '\\\\x66\\\\x75\\\\x63\\\\x6b/run' > /run/.nippon; /bin/busybox cat /run/.nippon; /bin/busybox rm /run/.nippon\"\n",
      " \"/bin/busybox echo -e '\\\\x66\\\\x75\\\\x63\\\\x6b/dev/shm' > /dev/shm/.nippon; /bin/busybox cat /dev/shm/.nippon; /bin/busybox rm /dev/shm/.nippon\"\n",
      " \"/bin/busybox echo -e '\\\\x66\\\\x75\\\\x63\\\\x6b/run/lock' > /run/lock/.nippon; /bin/busybox cat /run/lock/.nippon; /bin/busybox rm /run/lock/.nippon\"\n",
      " \"/bin/busybox echo -e '\\\\x66\\\\x75\\\\x63\\\\x6b/proc/sys/fs/binfmt_misc' > /proc/sys/fs/binfmt_misc/.nippon; /bin/busybox cat /proc/sys/fs/binfmt_misc/.nippon; /bin/busybox rm /proc/sys/fs/binfmt_misc/.nippon\"\n",
      " \"/bin/busybox echo -e '\\\\x66\\\\x75\\\\x63\\\\x6b/sys/fs/fuse/connections' > /sys/fs/fuse/connections/.nippon; /bin/busybox cat /sys/fs/fuse/connections/.nippon; /bin/busybox rm /sys/fs/fuse/connections/.nippon\"\n",
      " \"/bin/busybox echo -e '\\\\x66\\\\x75\\\\x63\\\\x6b/boot' > /boot/.nippon; /bin/busybox cat /boot/.nippon; /bin/busybox rm /boot/.nippon\"\n",
      " \"/bin/busybox echo -e '\\\\x66\\\\x75\\\\x63\\\\x6b/home' > /home/.nippon; /bin/busybox cat /home/.nippon; /bin/busybox rm /home/.nippon\"\n",
      " 'rm /.t; rm /.sh; rm /.human' 'rm /sys/.t; rm /sys/.sh; rm /sys/.human'\n",
      " 'rm /proc/.t; rm /proc/.sh; rm /proc/.human'\n",
      " 'rm /dev/.t; rm /dev/.sh; rm /dev/.human'\n",
      " 'rm /dev/pts/.t; rm /dev/pts/.sh; rm /dev/pts/.human'\n",
      " 'rm /run/.t; rm /run/.sh; rm /run/.human'\n",
      " 'rm /dev/shm/.t; rm /dev/shm/.sh; rm /dev/shm/.human'\n",
      " 'rm /run/lock/.t; rm /run/lock/.sh; rm /run/lock/.human'\n",
      " 'rm /proc/sys/fs/binfmt_misc/.t; rm /proc/sys/fs/binfmt_misc/.sh; rm /proc/sys/fs/binfmt_misc/.human'\n",
      " 'rm /boot/.t; rm /boot/.sh; rm /boot/.human'\n",
      " 'rm /home/.t; rm /home/.sh; rm /home/.human' 'cd /'\n",
      " '/bin/busybox cp /bin/echo amsjkfbns; >amsjkfbns; /bin/busybox chmod 777 amsjkfbns; /bin/busybox LOLKEK'\n",
      " '/bin/busybox cat /bin/echo']\n",
      "188.166.216.206 [nan 'enable' 'shell' 'sh' '/bin/busybox daddyl33t'\n",
      " '/bin/busybox ps; /bin/busybox daddyl33t'\n",
      " '/bin/busybox cat /proc/mounts; /bin/busybox daddyl33t'\n",
      " \"/bin/busybox echo -e '\\\\x6b\\\\x61\\\\x6d\\\\x69' > /.nippon; /bin/busybox cat /.nippon; /bin/busybox rm /.nippon\"\n",
      " \"/bin/busybox echo -e '\\\\x6b\\\\x61\\\\x6d\\\\x69/sys' > /sys/.nippon; /bin/busybox cat /sys/.nippon; /bin/busybox rm /sys/.nippon\"\n",
      " \"/bin/busybox echo -e '\\\\x6b\\\\x61\\\\x6d\\\\x69/proc' > /proc/.nippon; /bin/busybox cat /proc/.nippon; /bin/busybox rm /proc/.nippon\"\n",
      " \"/bin/busybox echo -e '\\\\x6b\\\\x61\\\\x6d\\\\x69/dev' > /dev/.nippon; /bin/busybox cat /dev/.nippon; /bin/busybox rm /dev/.nippon\"\n",
      " \"/bin/busybox echo -e '\\\\x6b\\\\x61\\\\x6d\\\\x69/dev/pts' > /dev/pts/.nippon; /bin/busybox cat /dev/pts/.nippon; /bin/busybox rm /dev/pts/.nippon\"\n",
      " \"/bin/busybox echo -e '\\\\x6b\\\\x61\\\\x6d\\\\x69/run' > /run/.nippon; /bin/busybox cat /run/.nippon; /bin/busybox rm /run/.nippon\"\n",
      " \"/bin/busybox echo -e '\\\\x6b\\\\x61\\\\x6d\\\\x69/dev/shm' > /dev/shm/.nippon; /bin/busybox cat /dev/shm/.nippon; /bin/busybox rm /dev/shm/.nippon\"\n",
      " \"/bin/busybox echo -e '\\\\x6b\\\\x61\\\\x6d\\\\x69/run/lock' > /run/lock/.nippon; /bin/busybox cat /run/lock/.nippon; /bin/busybox rm /run/lock/.nippon\"\n",
      " \"/bin/busybox echo -e '\\\\x6b\\\\x61\\\\x6d\\\\x69/proc/sys/fs/binfmt_misc' > /proc/sys/fs/binfmt_misc/.nippon; /bin/busybox cat /proc/sys/fs/binfmt_misc/.nippon; /bin/busybox rm /proc/sys/fs/binfmt_misc/.nippon\"\n",
      " \"/bin/busybox echo -e '\\\\x6b\\\\x61\\\\x6d\\\\x69/sys/fs/fuse/connections' > /sys/fs/fuse/connections/.nippon; /bin/busybox cat /sys/fs/fuse/connections/.nippon; /bin/busybox rm /sys/fs/fuse/connections/.nippon\"\n",
      " \"/bin/busybox echo -e '\\\\x6b\\\\x61\\\\x6d\\\\x69/boot' > /boot/.nippon; /bin/busybox cat /boot/.nippon; /bin/busybox rm /boot/.nippon\"\n",
      " \"/bin/busybox echo -e '\\\\x6b\\\\x61\\\\x6d\\\\x69/home' > /home/.nippon; /bin/busybox cat /home/.nippon; /bin/busybox rm /home/.nippon\"\n",
      " 'rm /.t; rm /.sh; rm /.human' 'rm /sys/.t; rm /sys/.sh; rm /sys/.human'\n",
      " 'rm /proc/.t; rm /proc/.sh; rm /proc/.human'\n",
      " 'rm /dev/.t; rm /dev/.sh; rm /dev/.human'\n",
      " 'rm /dev/pts/.t; rm /dev/pts/.sh; rm /dev/pts/.human'\n",
      " 'rm /run/.t; rm /run/.sh; rm /run/.human'\n",
      " 'rm /dev/shm/.t; rm /dev/shm/.sh; rm /dev/shm/.human'\n",
      " 'rm /run/lock/.t; rm /run/lock/.sh; rm /run/lock/.human'\n",
      " 'rm /proc/sys/fs/binfmt_misc/.t; rm /proc/sys/fs/binfmt_misc/.sh; rm /proc/sys/fs/binfmt_misc/.human'\n",
      " 'rm /boot/.t; rm /boot/.sh; rm /boot/.human'\n",
      " 'rm /home/.t; rm /home/.sh; rm /home/.human' 'cd /'\n",
      " '/bin/busybox cp /bin/echo OaF3; >OaF3; /bin/busybox chmod 777 OaF3; /bin/busybox daddyl33t'\n",
      " '/bin/busybox cat /bin/echo']\n",
      "101.96.121.172 [nan 'enable' 'system' 'shell' 'sh' 'cat /proc/mounts; /bin/busybox NNKYC'\n",
      " 'cd /dev/shm; cat .s || cp /bin/echo .s; /bin/busybox NNKYC'\n",
      " 'tftp; wget; /bin/busybox NNKYC'\n",
      " 'dd bs=52 count=1 if=.s || cat .s || while read i; do echo $i; done < .s'\n",
      " 'while read i' 'do echo' 'done < .s' '/bin/busybox NNKYC']\n",
      "47.36.0.221 [nan 'enable' 'system' 'shell' 'sh' 'cat /proc/mounts; /bin/busybox NKSCY'\n",
      " 'cd /dev/shm; cat .s || cp /bin/echo .s; /bin/busybox NKSCY'\n",
      " 'tftp; wget; /bin/busybox NKSCY'\n",
      " 'dd bs=52 count=1 if=.s || cat .s || while read i; do echo $i; done < .s'\n",
      " 'while read i' 'do echo' 'done < .s' '/bin/busybox NKSCY']\n",
      "138.121.27.97 [nan 'enable' 'system' 'shell' 'sh' 'cat /proc/mounts; /bin/busybox QGTIM'\n",
      " 'cd /dev/shm; cat .s || cp /bin/echo .s; /bin/busybox QGTIM'\n",
      " 'tftp; wget; /bin/busybox QGTIM'\n",
      " 'dd bs=52 count=1 if=.s || cat .s || while read i; do echo $i; done < .s'\n",
      " 'while read i' 'do echo' 'done < .s' '/bin/busybox QGTIM']\n",
      "191.193.112.220 [nan 'enable' 'system' 'shell' 'sh' 'cat /proc/mounts; /bin/busybox ITLTW'\n",
      " 'cd /dev/shm; cat .s || cp /bin/echo .s; /bin/busybox ITLTW'\n",
      " 'tftp; wget; /bin/busybox ITLTW'\n",
      " 'dd bs=52 count=1 if=.s || cat .s || while read i; do echo $i; done < .s'\n",
      " 'while read i' 'do echo' 'done < .s' '/bin/busybox ITLTW']\n",
      "185.222.209.108 [nan]\n",
      "114.142.45.14 ['enable' 'system' 'shell' 'sh' '/bin/busybox NGRLS' nan]\n",
      "107.170.200.69 [nan]\n"
     ]
    }
   ],
   "source": [
    "for ip in most_common.to_dict():\n",
    "     print (ip, df[df['src_ip'] == ip]['input'].unique())"
   ]
  },
  {
   "cell_type": "markdown",
   "metadata": {},
   "source": [
    "To find the most common inputs"
   ]
  },
  {
   "cell_type": "code",
   "execution_count": 35,
   "metadata": {},
   "outputs": [
    {
     "data": {
      "text/plain": [
       "shell                                                                                                                                                                                                      42\n",
       "/bin/busybox daddyl33t                                                                                                                                                                                     42\n",
       "rm /.t; rm /.sh; rm /.human                                                                                                                                                                                30\n",
       "rm /dev/.t; rm /dev/.sh; rm /dev/.human                                                                                                                                                                    29\n",
       "/bin/busybox echo -e '\\x6b\\x61\\x6d\\x69/proc/sys/fs/binfmt_misc' > /proc/sys/fs/binfmt_misc/.nippon; /bin/busybox cat /proc/sys/fs/binfmt_misc/.nippon; /bin/busybox rm /proc/sys/fs/binfmt_misc/.nippon    28\n",
       "/bin/busybox echo -e '\\x6b\\x61\\x6d\\x69/dev' > /dev/.nippon; /bin/busybox cat /dev/.nippon; /bin/busybox rm /dev/.nippon                                                                                    28\n",
       "/bin/busybox echo -e '\\x6b\\x61\\x6d\\x69' > /.nippon; /bin/busybox cat /.nippon; /bin/busybox rm /.nippon                                                                                                    28\n",
       "rm /proc/sys/fs/binfmt_misc/.t; rm /proc/sys/fs/binfmt_misc/.sh; rm /proc/sys/fs/binfmt_misc/.human                                                                                                        28\n",
       "enable                                                                                                                                                                                                     21\n",
       "sh                                                                                                                                                                                                         21\n",
       "/bin/busybox ps; /bin/busybox daddyl33t                                                                                                                                                                    15\n",
       "/bin/busybox cat /proc/mounts; /bin/busybox daddyl33t                                                                                                                                                      15\n",
       "rm /proc/.t; rm /proc/.sh; rm /proc/.human                                                                                                                                                                 15\n",
       "rm /run/.t; rm /run/.sh; rm /run/.human                                                                                                                                                                    15\n",
       "rm /sys/.t; rm /sys/.sh; rm /sys/.human                                                                                                                                                                    15\n",
       "rm /dev/shm/.t; rm /dev/shm/.sh; rm /dev/shm/.human                                                                                                                                                        15\n",
       "rm /dev/pts/.t; rm /dev/pts/.sh; rm /dev/pts/.human                                                                                                                                                        15\n",
       "cd /                                                                                                                                                                                                       14\n",
       "/bin/busybox cat /bin/echo                                                                                                                                                                                 14\n",
       "/bin/busybox echo -e '\\x6b\\x61\\x6d\\x69/proc' > /proc/.nippon; /bin/busybox cat /proc/.nippon; /bin/busybox rm /proc/.nippon                                                                                14\n",
       "/bin/busybox echo -e '\\x6b\\x61\\x6d\\x69/run' > /run/.nippon; /bin/busybox cat /run/.nippon; /bin/busybox rm /run/.nippon                                                                                    14\n",
       "rm /run/lock/.t; rm /run/lock/.sh; rm /run/lock/.human                                                                                                                                                     14\n",
       "rm /home/.t; rm /home/.sh; rm /home/.human                                                                                                                                                                 14\n",
       "/bin/busybox echo -e '\\x6b\\x61\\x6d\\x69/dev/pts' > /dev/pts/.nippon; /bin/busybox cat /dev/pts/.nippon; /bin/busybox rm /dev/pts/.nippon                                                                    14\n",
       "/bin/busybox echo -e '\\x6b\\x61\\x6d\\x69/dev/shm' > /dev/shm/.nippon; /bin/busybox cat /dev/shm/.nippon; /bin/busybox rm /dev/shm/.nippon                                                                    14\n",
       "/bin/busybox echo -e '\\x6b\\x61\\x6d\\x69/boot' > /boot/.nippon; /bin/busybox cat /boot/.nippon; /bin/busybox rm /boot/.nippon                                                                                14\n",
       "rm /boot/.t; rm /boot/.sh; rm /boot/.human                                                                                                                                                                 14\n",
       "/bin/busybox echo -e '\\x6b\\x61\\x6d\\x69/sys' > /sys/.nippon; /bin/busybox cat /sys/.nippon; /bin/busybox rm /sys/.nippon                                                                                    14\n",
       "/bin/busybox echo -e '\\x6b\\x61\\x6d\\x69/sys/fs/fuse/connections' > /sys/fs/fuse/connections/.nippon; /bin/busybox cat /sys/fs/fuse/connections/.nippon; /bin/busybox rm /sys/fs/fuse/connections/.nippon    14\n",
       "/bin/busybox echo -e '\\x6b\\x61\\x6d\\x69/run/lock' > /run/lock/.nippon; /bin/busybox cat /run/lock/.nippon; /bin/busybox rm /run/lock/.nippon                                                                14\n",
       "                                                                                                                                                                                                           ..\n",
       "/bin/busybox echo -e '\\x66\\x75\\x63\\x6b/proc/sys/fs/binfmt_misc' > /proc/sys/fs/binfmt_misc/.nippon; /bin/busybox cat /proc/sys/fs/binfmt_misc/.nippon; /bin/busybox rm /proc/sys/fs/binfmt_misc/.nippon     2\n",
       "/bin/busybox echo -e '\\x66\\x75\\x63\\x6b/boot' > /boot/.nippon; /bin/busybox cat /boot/.nippon; /bin/busybox rm /boot/.nippon                                                                                 1\n",
       "/bin/busybox echo -e '\\x66\\x75\\x63\\x6b/run/lock' > /run/lock/.nippon; /bin/busybox cat /run/lock/.nippon; /bin/busybox rm /run/lock/.nippon                                                                 1\n",
       "/bin/busybox NKSCY                                                                                                                                                                                          1\n",
       "/bin/busybox ps; /bin/busybox LOLKEK                                                                                                                                                                        1\n",
       "tftp; wget; /bin/busybox NKSCY                                                                                                                                                                              1\n",
       "tftp; wget; /bin/busybox QGTIM                                                                                                                                                                              1\n",
       "/bin/busybox echo -e '\\x66\\x75\\x63\\x6b/run' > /run/.nippon; /bin/busybox cat /run/.nippon; /bin/busybox rm /run/.nippon                                                                                     1\n",
       "/bin/busybox cp /bin/echo amsjkfbns; >amsjkfbns; /bin/busybox chmod 777 amsjkfbns; /bin/busybox LOLKEK                                                                                                      1\n",
       "cd /dev/shm; cat .s || cp /bin/echo .s; /bin/busybox NNKYC                                                                                                                                                  1\n",
       "/bin/busybox cat /proc/mounts; /bin/busybox LOLKEK                                                                                                                                                          1\n",
       "cat /proc/mounts; /bin/busybox NKSCY                                                                                                                                                                        1\n",
       "/bin/busybox QGTIM                                                                                                                                                                                          1\n",
       "/bin/busybox ITLTW                                                                                                                                                                                          1\n",
       "/bin/busybox echo -e '\\x66\\x75\\x63\\x6b/sys' > /sys/.nippon; /bin/busybox cat /sys/.nippon; /bin/busybox rm /sys/.nippon                                                                                     1\n",
       "cd /dev/shm; cat .s || cp /bin/echo .s; /bin/busybox ITLTW                                                                                                                                                  1\n",
       "cat /proc/mounts; /bin/busybox NNKYC                                                                                                                                                                        1\n",
       "/bin/busybox echo -e '\\x66\\x75\\x63\\x6b/sys/fs/fuse/connections' > /sys/fs/fuse/connections/.nippon; /bin/busybox cat /sys/fs/fuse/connections/.nippon; /bin/busybox rm /sys/fs/fuse/connections/.nippon     1\n",
       "cd /dev/shm; cat .s || cp /bin/echo .s; /bin/busybox NKSCY                                                                                                                                                  1\n",
       "cd /dev/shm; cat .s || cp /bin/echo .s; /bin/busybox QGTIM                                                                                                                                                  1\n",
       "/bin/busybox echo -e '\\x66\\x75\\x63\\x6b/dev/pts' > /dev/pts/.nippon; /bin/busybox cat /dev/pts/.nippon; /bin/busybox rm /dev/pts/.nippon                                                                     1\n",
       "tftp; wget; /bin/busybox NNKYC                                                                                                                                                                              1\n",
       "/bin/busybox echo -e '\\x66\\x75\\x63\\x6b/dev/shm' > /dev/shm/.nippon; /bin/busybox cat /dev/shm/.nippon; /bin/busybox rm /dev/shm/.nippon                                                                     1\n",
       "tftp; wget; /bin/busybox ITLTW                                                                                                                                                                              1\n",
       "cat /proc/mounts; /bin/busybox QGTIM                                                                                                                                                                        1\n",
       "cat /proc/mounts; /bin/busybox ITLTW                                                                                                                                                                        1\n",
       "/bin/busybox NGRLS                                                                                                                                                                                          1\n",
       "/bin/busybox NNKYC                                                                                                                                                                                          1\n",
       "/bin/busybox echo -e '\\x66\\x75\\x63\\x6b/home' > /home/.nippon; /bin/busybox cat /home/.nippon; /bin/busybox rm /home/.nippon                                                                                 1\n",
       "/bin/busybox echo -e '\\x66\\x75\\x63\\x6b/proc' > /proc/.nippon; /bin/busybox cat /proc/.nippon; /bin/busybox rm /proc/.nippon                                                                                 1\n",
       "Name: input, Length: 70, dtype: int64"
      ]
     },
     "execution_count": 35,
     "metadata": {},
     "output_type": "execute_result"
    }
   ],
   "source": [
    "df['input'].value_counts()"
   ]
  },
  {
   "cell_type": "code",
   "execution_count": null,
   "metadata": {
    "collapsed": true
   },
   "outputs": [],
   "source": []
  }
 ],
 "metadata": {
  "kernelspec": {
   "display_name": "Python 3",
   "language": "python",
   "name": "python3"
  },
  "language_info": {
   "codemirror_mode": {
    "name": "ipython",
    "version": 3
   },
   "file_extension": ".py",
   "mimetype": "text/x-python",
   "name": "python",
   "nbconvert_exporter": "python",
   "pygments_lexer": "ipython3",
   "version": "3.6.2"
  }
 },
 "nbformat": 4,
 "nbformat_minor": 2
}
